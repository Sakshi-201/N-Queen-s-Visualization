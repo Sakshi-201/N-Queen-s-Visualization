{
 "cells": [
  {
   "cell_type": "markdown",
   "id": "6f8ab981",
   "metadata": {},
   "source": [
    "## Solving N-Queen's Problem in Python"
   ]
  },
  {
   "cell_type": "code",
   "execution_count": 13,
   "id": "aae2c080",
   "metadata": {},
   "outputs": [],
   "source": [
    "import pygame\n",
    "import os\n",
    "import sys\n",
    "pygame.font.init()"
   ]
  },
  {
   "cell_type": "code",
   "execution_count": 14,
   "id": "d56150e4",
   "metadata": {},
   "outputs": [],
   "source": [
    "pygame.init()\n",
    "res = (760,670)"
   ]
  },
  {
   "cell_type": "code",
   "execution_count": 15,
   "id": "dc25e7b7",
   "metadata": {},
   "outputs": [],
   "source": [
    "WIDTH,HEIGHT = 850,650\n",
    "WIDTH_B,HEIGHT_B = 500,500\n",
    "pygame.display.set_caption(\"N-Queen's Problem\")"
   ]
  },
  {
   "cell_type": "code",
   "execution_count": 16,
   "id": "0ea9a6cc",
   "metadata": {},
   "outputs": [],
   "source": [
    "background=(49,78,121)\n",
    "WHITE=(255,255,255)\n",
    "firebrick =(252,60,3)\n",
    "light_blue = (0,162,232)\n",
    "firebrick_dark=(214,52,12)"
   ]
  },
  {
   "cell_type": "code",
   "execution_count": 17,
   "id": "34d8b3da",
   "metadata": {},
   "outputs": [],
   "source": [
    "FPS=10\n",
    "\n",
    "counter=0\n",
    "\n",
    "QUEEN_IMAGE = pygame.image.load(os.path.join(r'C:\\Users\\prave\\Desktop\\Sakshi\\Sem-3\\DSA\\DSA PROJECT\\queen2.png'))\n",
    "\n",
    "smallfont = pygame.font.SysFont('Corbel',40)"
   ]
  },
  {
   "cell_type": "code",
   "execution_count": 18,
   "id": "025067a4",
   "metadata": {},
   "outputs": [],
   "source": [
    "font = pygame.font.Font('freesansbold.ttf', 32)\n",
    "text = font.render('N-QUEEN\\'S PROBLEM', True, firebrick, background)\n",
    "textRect = text.get_rect()\n",
    "textRect.topleft = (200,20)\n",
    "\n",
    "text2 = smallfont.render('NEXT' , True ,WHITE)\n",
    "\n",
    "Rules_heading=smallfont.render('INSTRUCTIONS', True,light_blue,background)\n",
    "Rules_headingRect=text.get_rect()\n",
    "Rules_headingRect.topright = (920,120)\n",
    " \n",
    "Rules_content=\"1.Place N chess queens on an N×N chessboard\\n2.NO two queens should attack each other\\n3.The soln here is found using Backtracking.\"\n",
    "\n",
    "\n",
    "limit=[0,1,0,0,2,10,4,40,92,352,724,2680,14200,73712,365596,2279184]\n"
   ]
  },
  {
   "cell_type": "code",
   "execution_count": 19,
   "id": "37a23965",
   "metadata": {},
   "outputs": [],
   "source": [
    "#to print the rule_content on the screen and moving to next line when required\n",
    "def blit_text(surface, text, pos, font, color=pygame.Color('black')):\n",
    "    # 2D array where each row is a list of words.\n",
    "    words = [word.split(' ') for word in text.splitlines()] \n",
    "    # The width of a space.\n",
    "    space = font.size(' ')[0]  \n",
    "    max_width, max_height = surface.get_size()\n",
    "    x, y = pos\n",
    "    for line in words:\n",
    "        for word in line:\n",
    "            word_surface = font.render(word, 0, color)\n",
    "            word_width, word_height = word_surface.get_size()\n",
    "            if x + word_width >= max_width:\n",
    "                # Reset the x.\n",
    "                x = pos[0]  \n",
    "                # Start on new row.\n",
    "                y += word_height \n",
    "            surface.blit(word_surface, (x, y))\n",
    "            x += word_width + space\n",
    "        # Reset the x.    \n",
    "        x = pos[0] \n",
    "        # Start on new row.\n",
    "        y += word_height "
   ]
  },
  {
   "cell_type": "code",
   "execution_count": 20,
   "id": "6a0a0666",
   "metadata": {},
   "outputs": [],
   "source": [
    "# Function to check if two queens threaten each other or not\n",
    "def isSafe(mat, r, c):\n",
    " \n",
    "    # return false if two queens share the same column\n",
    "    for i in range(r):\n",
    "        if mat[i][c] == 'Q':\n",
    "            return False\n",
    " \n",
    "    # return false if two queens share the same `\\` diagonal\n",
    "    (i, j) = (r, c)\n",
    "    while i >= 0 and j >= 0:\n",
    "        if mat[i][j] == 'Q':\n",
    "            return False\n",
    "        i = i - 1\n",
    "        j = j - 1\n",
    " \n",
    "    # return false if two queens share the same `/` diagonal\n",
    "    (i, j) = (r, c)\n",
    "    while i >= 0 and j < len(mat):\n",
    "        if mat[i][j] == 'Q':\n",
    "            return False\n",
    "        i = i - 1\n",
    "        j = j + 1\n",
    " \n",
    "    return True"
   ]
  },
  {
   "cell_type": "code",
   "execution_count": 21,
   "id": "8c309b0c",
   "metadata": {},
   "outputs": [],
   "source": [
    "def nQueen(text3,text3Rect,mat, r,n):\n",
    " \n",
    "    # if `N` queens are placed successfully, print the solution\n",
    "    if r == len(mat) and counter<limit[n]:\n",
    "        main(text3,text3Rect,mat,n)\n",
    " \n",
    "    # place queen at every square in the current row `r`\n",
    "    # and recur for each valid movement\n",
    "    for i in range(len(mat)):\n",
    " \n",
    "        # if no two queens threaten each other\n",
    "        if isSafe(mat, r, i):\n",
    "            # place queen on the current square\n",
    "            mat[r][i] = 'Q'\n",
    " \n",
    "            # recur for the next row\n",
    "            nQueen(text3,text3Rect,mat, r + 1,n)\n",
    " \n",
    "            # backtrack and remove the queen from the current square\n",
    "            mat[r][i] = '–'"
   ]
  },
  {
   "cell_type": "code",
   "execution_count": 22,
   "id": "1be404c9",
   "metadata": {},
   "outputs": [],
   "source": [
    "def draw_window(WIN,text3,text3Rect,mat,n):\n",
    "    \n",
    "    WIN.fill(background)\n",
    "    WIN.blit(text, textRect)\n",
    "    WIN.blit(text3,text3Rect)\n",
    "    WIN.blit(Rules_heading,Rules_headingRect)\n",
    "    blit_text(WIN, Rules_content, (580, 160), smallfont,WHITE)\n",
    "    \n",
    "    gap = ((WIDTH_B/n)-1)\n",
    "    max_h=(n)*gap\n",
    "    max_w=(n)*gap\n",
    "    for i in range(n+1):\n",
    "        pygame.draw.line(WIN, (0,0,0), (i*gap+40, 120), (i*gap+40, max_h+120), 2) #Horizontal line\n",
    "        pygame.draw.line(WIN, (0,0,0), (40, i*gap+120), (max_w+40, i*gap+120), 2) #Vertical line\n",
    "        \n",
    "    \n",
    "    \n",
    "    IMG_WIDTH = (WIDTH_B/n)-20\n",
    "    IMG_HEIGHT = (HEIGHT_B/n)-20\n",
    "    QUEEN_IMG = pygame.transform.scale(QUEEN_IMAGE , (IMG_WIDTH,IMG_HEIGHT))\n",
    "    \n",
    "    i=0\n",
    "    j=0\n",
    "\n",
    "    for i in range(n):\n",
    "        for j in range(n):\n",
    "            if(mat[i][j] == 'Q'):\n",
    "                WIN.blit(QUEEN_IMG,(50+(i*gap),130+(j*gap)))\n",
    "            elif(mat[i][j] == '-'):\n",
    "                continue\n",
    "            else:\n",
    "                continue\n",
    "    # stores the (x,y) coordinates into the variable as a tuple\n",
    "    mouse = pygame.mouse.get_pos()\n",
    "      \n",
    "    #button rectangle\n",
    "    pygame.draw.rect(WIN,firebrick_dark,[WIDTH_B+100,HEIGHT/2+240,190,50])\n",
    "    \n",
    "    # superimposing the text onto our button\n",
    "    WIN.blit(text2 , (WIDTH_B+150,HEIGHT/2+245))\n",
    "    pygame.display.update()"
   ]
  },
  {
   "cell_type": "code",
   "execution_count": 23,
   "id": "ae982e71",
   "metadata": {},
   "outputs": [],
   "source": [
    "def main(text3,text3Rect,mat,n):\n",
    "    #screen = pygame.display.set_mode(res)\n",
    "    WIN = pygame.display.set_mode([WIDTH,HEIGHT],pygame.RESIZABLE)\n",
    "    clock = pygame.time.Clock()\n",
    "    run=True\n",
    "    while run:\n",
    "        for event in pygame.event.get():\n",
    "            if event.type == pygame.QUIT:\n",
    "                pygame.quit()\n",
    "            if event.type == pygame.MOUSEBUTTONDOWN:\n",
    "                #if the mouse is clicked on the\n",
    "\n",
    "                # button the game is terminated\n",
    "                if WIDTH_B+100 <= mouse[0] <= WIDTH_B+290 and HEIGHT/2+260 <= mouse[1] <= HEIGHT/2+300:\n",
    "                    run=False\n",
    "                    return\n",
    "            \n",
    "            mouse = pygame.mouse.get_pos()\n",
    "            draw_window(WIN,text3,text3Rect,mat,n)\n",
    "            \n",
    "    pygame.quit()"
   ]
  },
  {
   "cell_type": "code",
   "execution_count": 24,
   "id": "0afee35f",
   "metadata": {},
   "outputs": [
    {
     "name": "stdout",
     "output_type": "stream",
     "text": [
      "Enter the size of the board : 7\n"
     ]
    },
    {
     "ename": "error",
     "evalue": "video system not initialized",
     "output_type": "error",
     "traceback": [
      "\u001b[1;31m---------------------------------------------------------------------------\u001b[0m",
      "\u001b[1;31merror\u001b[0m                                     Traceback (most recent call last)",
      "\u001b[1;32m<ipython-input-24-3213d0918c37>\u001b[0m in \u001b[0;36m<module>\u001b[1;34m\u001b[0m\n\u001b[0;32m     11\u001b[0m     \u001b[0mmat\u001b[0m \u001b[1;33m=\u001b[0m \u001b[1;33m[\u001b[0m\u001b[1;33m[\u001b[0m\u001b[1;34m'–'\u001b[0m \u001b[1;32mfor\u001b[0m \u001b[0mx\u001b[0m \u001b[1;32min\u001b[0m \u001b[0mrange\u001b[0m\u001b[1;33m(\u001b[0m\u001b[0mN\u001b[0m\u001b[1;33m)\u001b[0m\u001b[1;33m]\u001b[0m \u001b[1;32mfor\u001b[0m \u001b[0my\u001b[0m \u001b[1;32min\u001b[0m \u001b[0mrange\u001b[0m\u001b[1;33m(\u001b[0m\u001b[0mN\u001b[0m\u001b[1;33m)\u001b[0m\u001b[1;33m]\u001b[0m\u001b[1;33m\u001b[0m\u001b[1;33m\u001b[0m\u001b[0m\n\u001b[0;32m     12\u001b[0m \u001b[1;33m\u001b[0m\u001b[0m\n\u001b[1;32m---> 13\u001b[1;33m     \u001b[0mnQueen\u001b[0m\u001b[1;33m(\u001b[0m\u001b[0mtext3\u001b[0m\u001b[1;33m,\u001b[0m\u001b[0mtext3Rect\u001b[0m\u001b[1;33m,\u001b[0m\u001b[0mmat\u001b[0m\u001b[1;33m,\u001b[0m \u001b[1;36m0\u001b[0m\u001b[1;33m,\u001b[0m\u001b[0mN\u001b[0m\u001b[1;33m)\u001b[0m\u001b[1;33m\u001b[0m\u001b[1;33m\u001b[0m\u001b[0m\n\u001b[0m",
      "\u001b[1;32m<ipython-input-21-034e8c435160>\u001b[0m in \u001b[0;36mnQueen\u001b[1;34m(text3, text3Rect, mat, r, n)\u001b[0m\n\u001b[0;32m     15\u001b[0m \u001b[1;33m\u001b[0m\u001b[0m\n\u001b[0;32m     16\u001b[0m             \u001b[1;31m# recur for the next row\u001b[0m\u001b[1;33m\u001b[0m\u001b[1;33m\u001b[0m\u001b[1;33m\u001b[0m\u001b[0m\n\u001b[1;32m---> 17\u001b[1;33m             \u001b[0mnQueen\u001b[0m\u001b[1;33m(\u001b[0m\u001b[0mtext3\u001b[0m\u001b[1;33m,\u001b[0m\u001b[0mtext3Rect\u001b[0m\u001b[1;33m,\u001b[0m\u001b[0mmat\u001b[0m\u001b[1;33m,\u001b[0m \u001b[0mr\u001b[0m \u001b[1;33m+\u001b[0m \u001b[1;36m1\u001b[0m\u001b[1;33m,\u001b[0m\u001b[0mn\u001b[0m\u001b[1;33m)\u001b[0m\u001b[1;33m\u001b[0m\u001b[1;33m\u001b[0m\u001b[0m\n\u001b[0m\u001b[0;32m     18\u001b[0m \u001b[1;33m\u001b[0m\u001b[0m\n\u001b[0;32m     19\u001b[0m             \u001b[1;31m# backtrack and remove the queen from the current square\u001b[0m\u001b[1;33m\u001b[0m\u001b[1;33m\u001b[0m\u001b[1;33m\u001b[0m\u001b[0m\n",
      "\u001b[1;32m<ipython-input-21-034e8c435160>\u001b[0m in \u001b[0;36mnQueen\u001b[1;34m(text3, text3Rect, mat, r, n)\u001b[0m\n\u001b[0;32m     15\u001b[0m \u001b[1;33m\u001b[0m\u001b[0m\n\u001b[0;32m     16\u001b[0m             \u001b[1;31m# recur for the next row\u001b[0m\u001b[1;33m\u001b[0m\u001b[1;33m\u001b[0m\u001b[1;33m\u001b[0m\u001b[0m\n\u001b[1;32m---> 17\u001b[1;33m             \u001b[0mnQueen\u001b[0m\u001b[1;33m(\u001b[0m\u001b[0mtext3\u001b[0m\u001b[1;33m,\u001b[0m\u001b[0mtext3Rect\u001b[0m\u001b[1;33m,\u001b[0m\u001b[0mmat\u001b[0m\u001b[1;33m,\u001b[0m \u001b[0mr\u001b[0m \u001b[1;33m+\u001b[0m \u001b[1;36m1\u001b[0m\u001b[1;33m,\u001b[0m\u001b[0mn\u001b[0m\u001b[1;33m)\u001b[0m\u001b[1;33m\u001b[0m\u001b[1;33m\u001b[0m\u001b[0m\n\u001b[0m\u001b[0;32m     18\u001b[0m \u001b[1;33m\u001b[0m\u001b[0m\n\u001b[0;32m     19\u001b[0m             \u001b[1;31m# backtrack and remove the queen from the current square\u001b[0m\u001b[1;33m\u001b[0m\u001b[1;33m\u001b[0m\u001b[1;33m\u001b[0m\u001b[0m\n",
      "\u001b[1;32m<ipython-input-21-034e8c435160>\u001b[0m in \u001b[0;36mnQueen\u001b[1;34m(text3, text3Rect, mat, r, n)\u001b[0m\n\u001b[0;32m     15\u001b[0m \u001b[1;33m\u001b[0m\u001b[0m\n\u001b[0;32m     16\u001b[0m             \u001b[1;31m# recur for the next row\u001b[0m\u001b[1;33m\u001b[0m\u001b[1;33m\u001b[0m\u001b[1;33m\u001b[0m\u001b[0m\n\u001b[1;32m---> 17\u001b[1;33m             \u001b[0mnQueen\u001b[0m\u001b[1;33m(\u001b[0m\u001b[0mtext3\u001b[0m\u001b[1;33m,\u001b[0m\u001b[0mtext3Rect\u001b[0m\u001b[1;33m,\u001b[0m\u001b[0mmat\u001b[0m\u001b[1;33m,\u001b[0m \u001b[0mr\u001b[0m \u001b[1;33m+\u001b[0m \u001b[1;36m1\u001b[0m\u001b[1;33m,\u001b[0m\u001b[0mn\u001b[0m\u001b[1;33m)\u001b[0m\u001b[1;33m\u001b[0m\u001b[1;33m\u001b[0m\u001b[0m\n\u001b[0m\u001b[0;32m     18\u001b[0m \u001b[1;33m\u001b[0m\u001b[0m\n\u001b[0;32m     19\u001b[0m             \u001b[1;31m# backtrack and remove the queen from the current square\u001b[0m\u001b[1;33m\u001b[0m\u001b[1;33m\u001b[0m\u001b[1;33m\u001b[0m\u001b[0m\n",
      "\u001b[1;32m<ipython-input-21-034e8c435160>\u001b[0m in \u001b[0;36mnQueen\u001b[1;34m(text3, text3Rect, mat, r, n)\u001b[0m\n\u001b[0;32m     15\u001b[0m \u001b[1;33m\u001b[0m\u001b[0m\n\u001b[0;32m     16\u001b[0m             \u001b[1;31m# recur for the next row\u001b[0m\u001b[1;33m\u001b[0m\u001b[1;33m\u001b[0m\u001b[1;33m\u001b[0m\u001b[0m\n\u001b[1;32m---> 17\u001b[1;33m             \u001b[0mnQueen\u001b[0m\u001b[1;33m(\u001b[0m\u001b[0mtext3\u001b[0m\u001b[1;33m,\u001b[0m\u001b[0mtext3Rect\u001b[0m\u001b[1;33m,\u001b[0m\u001b[0mmat\u001b[0m\u001b[1;33m,\u001b[0m \u001b[0mr\u001b[0m \u001b[1;33m+\u001b[0m \u001b[1;36m1\u001b[0m\u001b[1;33m,\u001b[0m\u001b[0mn\u001b[0m\u001b[1;33m)\u001b[0m\u001b[1;33m\u001b[0m\u001b[1;33m\u001b[0m\u001b[0m\n\u001b[0m\u001b[0;32m     18\u001b[0m \u001b[1;33m\u001b[0m\u001b[0m\n\u001b[0;32m     19\u001b[0m             \u001b[1;31m# backtrack and remove the queen from the current square\u001b[0m\u001b[1;33m\u001b[0m\u001b[1;33m\u001b[0m\u001b[1;33m\u001b[0m\u001b[0m\n",
      "\u001b[1;32m<ipython-input-21-034e8c435160>\u001b[0m in \u001b[0;36mnQueen\u001b[1;34m(text3, text3Rect, mat, r, n)\u001b[0m\n\u001b[0;32m     15\u001b[0m \u001b[1;33m\u001b[0m\u001b[0m\n\u001b[0;32m     16\u001b[0m             \u001b[1;31m# recur for the next row\u001b[0m\u001b[1;33m\u001b[0m\u001b[1;33m\u001b[0m\u001b[1;33m\u001b[0m\u001b[0m\n\u001b[1;32m---> 17\u001b[1;33m             \u001b[0mnQueen\u001b[0m\u001b[1;33m(\u001b[0m\u001b[0mtext3\u001b[0m\u001b[1;33m,\u001b[0m\u001b[0mtext3Rect\u001b[0m\u001b[1;33m,\u001b[0m\u001b[0mmat\u001b[0m\u001b[1;33m,\u001b[0m \u001b[0mr\u001b[0m \u001b[1;33m+\u001b[0m \u001b[1;36m1\u001b[0m\u001b[1;33m,\u001b[0m\u001b[0mn\u001b[0m\u001b[1;33m)\u001b[0m\u001b[1;33m\u001b[0m\u001b[1;33m\u001b[0m\u001b[0m\n\u001b[0m\u001b[0;32m     18\u001b[0m \u001b[1;33m\u001b[0m\u001b[0m\n\u001b[0;32m     19\u001b[0m             \u001b[1;31m# backtrack and remove the queen from the current square\u001b[0m\u001b[1;33m\u001b[0m\u001b[1;33m\u001b[0m\u001b[1;33m\u001b[0m\u001b[0m\n",
      "\u001b[1;32m<ipython-input-21-034e8c435160>\u001b[0m in \u001b[0;36mnQueen\u001b[1;34m(text3, text3Rect, mat, r, n)\u001b[0m\n\u001b[0;32m     15\u001b[0m \u001b[1;33m\u001b[0m\u001b[0m\n\u001b[0;32m     16\u001b[0m             \u001b[1;31m# recur for the next row\u001b[0m\u001b[1;33m\u001b[0m\u001b[1;33m\u001b[0m\u001b[1;33m\u001b[0m\u001b[0m\n\u001b[1;32m---> 17\u001b[1;33m             \u001b[0mnQueen\u001b[0m\u001b[1;33m(\u001b[0m\u001b[0mtext3\u001b[0m\u001b[1;33m,\u001b[0m\u001b[0mtext3Rect\u001b[0m\u001b[1;33m,\u001b[0m\u001b[0mmat\u001b[0m\u001b[1;33m,\u001b[0m \u001b[0mr\u001b[0m \u001b[1;33m+\u001b[0m \u001b[1;36m1\u001b[0m\u001b[1;33m,\u001b[0m\u001b[0mn\u001b[0m\u001b[1;33m)\u001b[0m\u001b[1;33m\u001b[0m\u001b[1;33m\u001b[0m\u001b[0m\n\u001b[0m\u001b[0;32m     18\u001b[0m \u001b[1;33m\u001b[0m\u001b[0m\n\u001b[0;32m     19\u001b[0m             \u001b[1;31m# backtrack and remove the queen from the current square\u001b[0m\u001b[1;33m\u001b[0m\u001b[1;33m\u001b[0m\u001b[1;33m\u001b[0m\u001b[0m\n",
      "\u001b[1;32m<ipython-input-21-034e8c435160>\u001b[0m in \u001b[0;36mnQueen\u001b[1;34m(text3, text3Rect, mat, r, n)\u001b[0m\n\u001b[0;32m     15\u001b[0m \u001b[1;33m\u001b[0m\u001b[0m\n\u001b[0;32m     16\u001b[0m             \u001b[1;31m# recur for the next row\u001b[0m\u001b[1;33m\u001b[0m\u001b[1;33m\u001b[0m\u001b[1;33m\u001b[0m\u001b[0m\n\u001b[1;32m---> 17\u001b[1;33m             \u001b[0mnQueen\u001b[0m\u001b[1;33m(\u001b[0m\u001b[0mtext3\u001b[0m\u001b[1;33m,\u001b[0m\u001b[0mtext3Rect\u001b[0m\u001b[1;33m,\u001b[0m\u001b[0mmat\u001b[0m\u001b[1;33m,\u001b[0m \u001b[0mr\u001b[0m \u001b[1;33m+\u001b[0m \u001b[1;36m1\u001b[0m\u001b[1;33m,\u001b[0m\u001b[0mn\u001b[0m\u001b[1;33m)\u001b[0m\u001b[1;33m\u001b[0m\u001b[1;33m\u001b[0m\u001b[0m\n\u001b[0m\u001b[0;32m     18\u001b[0m \u001b[1;33m\u001b[0m\u001b[0m\n\u001b[0;32m     19\u001b[0m             \u001b[1;31m# backtrack and remove the queen from the current square\u001b[0m\u001b[1;33m\u001b[0m\u001b[1;33m\u001b[0m\u001b[1;33m\u001b[0m\u001b[0m\n",
      "\u001b[1;32m<ipython-input-21-034e8c435160>\u001b[0m in \u001b[0;36mnQueen\u001b[1;34m(text3, text3Rect, mat, r, n)\u001b[0m\n\u001b[0;32m      3\u001b[0m     \u001b[1;31m# if `N` queens are placed successfully, print the solution\u001b[0m\u001b[1;33m\u001b[0m\u001b[1;33m\u001b[0m\u001b[1;33m\u001b[0m\u001b[0m\n\u001b[0;32m      4\u001b[0m     \u001b[1;32mif\u001b[0m \u001b[0mr\u001b[0m \u001b[1;33m==\u001b[0m \u001b[0mlen\u001b[0m\u001b[1;33m(\u001b[0m\u001b[0mmat\u001b[0m\u001b[1;33m)\u001b[0m \u001b[1;32mand\u001b[0m \u001b[0mcounter\u001b[0m\u001b[1;33m<\u001b[0m\u001b[0mlimit\u001b[0m\u001b[1;33m[\u001b[0m\u001b[0mn\u001b[0m\u001b[1;33m]\u001b[0m\u001b[1;33m:\u001b[0m\u001b[1;33m\u001b[0m\u001b[1;33m\u001b[0m\u001b[0m\n\u001b[1;32m----> 5\u001b[1;33m         \u001b[0mmain\u001b[0m\u001b[1;33m(\u001b[0m\u001b[0mtext3\u001b[0m\u001b[1;33m,\u001b[0m\u001b[0mtext3Rect\u001b[0m\u001b[1;33m,\u001b[0m\u001b[0mmat\u001b[0m\u001b[1;33m,\u001b[0m\u001b[0mn\u001b[0m\u001b[1;33m)\u001b[0m\u001b[1;33m\u001b[0m\u001b[1;33m\u001b[0m\u001b[0m\n\u001b[0m\u001b[0;32m      6\u001b[0m \u001b[1;33m\u001b[0m\u001b[0m\n\u001b[0;32m      7\u001b[0m     \u001b[1;31m# place queen at every square in the current row `r`\u001b[0m\u001b[1;33m\u001b[0m\u001b[1;33m\u001b[0m\u001b[1;33m\u001b[0m\u001b[0m\n",
      "\u001b[1;32m<ipython-input-23-155850b6d1de>\u001b[0m in \u001b[0;36mmain\u001b[1;34m(text3, text3Rect, mat, n)\u001b[0m\n\u001b[0;32m     16\u001b[0m                     \u001b[1;32mreturn\u001b[0m\u001b[1;33m\u001b[0m\u001b[1;33m\u001b[0m\u001b[0m\n\u001b[0;32m     17\u001b[0m \u001b[1;33m\u001b[0m\u001b[0m\n\u001b[1;32m---> 18\u001b[1;33m             \u001b[0mmouse\u001b[0m \u001b[1;33m=\u001b[0m \u001b[0mpygame\u001b[0m\u001b[1;33m.\u001b[0m\u001b[0mmouse\u001b[0m\u001b[1;33m.\u001b[0m\u001b[0mget_pos\u001b[0m\u001b[1;33m(\u001b[0m\u001b[1;33m)\u001b[0m\u001b[1;33m\u001b[0m\u001b[1;33m\u001b[0m\u001b[0m\n\u001b[0m\u001b[0;32m     19\u001b[0m             \u001b[0mdraw_window\u001b[0m\u001b[1;33m(\u001b[0m\u001b[0mWIN\u001b[0m\u001b[1;33m,\u001b[0m\u001b[0mtext3\u001b[0m\u001b[1;33m,\u001b[0m\u001b[0mtext3Rect\u001b[0m\u001b[1;33m,\u001b[0m\u001b[0mmat\u001b[0m\u001b[1;33m,\u001b[0m\u001b[0mn\u001b[0m\u001b[1;33m)\u001b[0m\u001b[1;33m\u001b[0m\u001b[1;33m\u001b[0m\u001b[0m\n\u001b[0;32m     20\u001b[0m \u001b[1;33m\u001b[0m\u001b[0m\n",
      "\u001b[1;31merror\u001b[0m: video system not initialized"
     ]
    }
   ],
   "source": [
    "if __name__ == \"__main__\":\n",
    "    \n",
    "    N = int(input(\"Enter the size of the board : \"))\n",
    "    \n",
    "    \n",
    "    text3 = font.render('N = '+str(N), True, light_blue, background)\n",
    "    text3Rect = text.get_rect()\n",
    "    text3Rect.topleft = (40,70)\n",
    "\n",
    "    \n",
    "    mat = [['–' for x in range(N)] for y in range(N)]\n",
    "    \n",
    "    nQueen(text3,text3Rect,mat, 0,N)"
   ]
  },
  {
   "cell_type": "code",
   "execution_count": null,
   "id": "aa167beb",
   "metadata": {},
   "outputs": [],
   "source": []
  }
 ],
 "metadata": {
  "kernelspec": {
   "display_name": "Python 3",
   "language": "python",
   "name": "python3"
  },
  "language_info": {
   "codemirror_mode": {
    "name": "ipython",
    "version": 3
   },
   "file_extension": ".py",
   "mimetype": "text/x-python",
   "name": "python",
   "nbconvert_exporter": "python",
   "pygments_lexer": "ipython3",
   "version": "3.8.8"
  }
 },
 "nbformat": 4,
 "nbformat_minor": 5
}
